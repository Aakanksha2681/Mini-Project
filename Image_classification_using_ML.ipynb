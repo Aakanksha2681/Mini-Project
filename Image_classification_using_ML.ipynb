{
  "nbformat": 4,
  "nbformat_minor": 0,
  "metadata": {
    "colab": {
      "name": "Image classification using ML.ipynb",
      "provenance": [],
      "collapsed_sections": [],
      "mount_file_id": "1HAbG-nf8MjOf8V95oKOsGgoKe3j8v8Bh",
      "authorship_tag": "ABX9TyNGdMCk0JC0871UVwWqKav4",
      "include_colab_link": true
    },
    "kernelspec": {
      "name": "python3",
      "display_name": "Python 3"
    }
  },
  "cells": [
    {
      "cell_type": "markdown",
      "metadata": {
        "id": "view-in-github",
        "colab_type": "text"
      },
      "source": [
        "<a href=\"https://colab.research.google.com/github/Aakanksha2681/Mini-Project/blob/main/Image_classification_using_ML.ipynb\" target=\"_parent\"><img src=\"https://colab.research.google.com/assets/colab-badge.svg\" alt=\"Open In Colab\"/></a>"
      ]
    },
    {
      "cell_type": "code",
      "metadata": {
        "id": "DEAe_HJLKilG",
        "colab": {
          "base_uri": "https://localhost:8080/"
        },
        "outputId": "0bf10eac-78cb-4745-d45b-4c175d6c2e78"
      },
      "source": [
        "# to find time of cell \n",
        "!pip install ipython-autotime\n",
        "%load_ext autotime"
      ],
      "execution_count": 3,
      "outputs": [
        {
          "output_type": "stream",
          "text": [
            "Requirement already satisfied: ipython-autotime in /usr/local/lib/python3.6/dist-packages (0.2.0)\n",
            "Requirement already satisfied: ipython in /usr/local/lib/python3.6/dist-packages (from ipython-autotime) (5.5.0)\n",
            "Requirement already satisfied: decorator in /usr/local/lib/python3.6/dist-packages (from ipython->ipython-autotime) (4.4.2)\n",
            "Requirement already satisfied: setuptools>=18.5 in /usr/local/lib/python3.6/dist-packages (from ipython->ipython-autotime) (50.3.2)\n",
            "Requirement already satisfied: prompt-toolkit<2.0.0,>=1.0.4 in /usr/local/lib/python3.6/dist-packages (from ipython->ipython-autotime) (1.0.18)\n",
            "Requirement already satisfied: pygments in /usr/local/lib/python3.6/dist-packages (from ipython->ipython-autotime) (2.6.1)\n",
            "Requirement already satisfied: pexpect; sys_platform != \"win32\" in /usr/local/lib/python3.6/dist-packages (from ipython->ipython-autotime) (4.8.0)\n",
            "Requirement already satisfied: traitlets>=4.2 in /usr/local/lib/python3.6/dist-packages (from ipython->ipython-autotime) (4.3.3)\n",
            "Requirement already satisfied: simplegeneric>0.8 in /usr/local/lib/python3.6/dist-packages (from ipython->ipython-autotime) (0.8.1)\n",
            "Requirement already satisfied: pickleshare in /usr/local/lib/python3.6/dist-packages (from ipython->ipython-autotime) (0.7.5)\n",
            "Requirement already satisfied: wcwidth in /usr/local/lib/python3.6/dist-packages (from prompt-toolkit<2.0.0,>=1.0.4->ipython->ipython-autotime) (0.2.5)\n",
            "Requirement already satisfied: six>=1.9.0 in /usr/local/lib/python3.6/dist-packages (from prompt-toolkit<2.0.0,>=1.0.4->ipython->ipython-autotime) (1.15.0)\n",
            "Requirement already satisfied: ptyprocess>=0.5 in /usr/local/lib/python3.6/dist-packages (from pexpect; sys_platform != \"win32\"->ipython->ipython-autotime) (0.6.0)\n",
            "Requirement already satisfied: ipython-genutils in /usr/local/lib/python3.6/dist-packages (from traitlets>=4.2->ipython->ipython-autotime) (0.2.0)\n",
            "time: 192 µs\n"
          ],
          "name": "stdout"
        }
      ]
    },
    {
      "cell_type": "code",
      "metadata": {
        "id": "XAW8QzsXK0ii",
        "colab": {
          "base_uri": "https://localhost:8080/"
        },
        "outputId": "eeb1599b-1443-4996-8445-e432107c5869"
      },
      "source": [
        "!pip install bing-image-downloader \n",
        "# to install bing so that image can be gather"
      ],
      "execution_count": 4,
      "outputs": [
        {
          "output_type": "stream",
          "text": [
            "Requirement already satisfied: bing-image-downloader in /usr/local/lib/python3.6/dist-packages (1.0.4)\n",
            "time: 2.33 s\n"
          ],
          "name": "stdout"
        }
      ]
    },
    {
      "cell_type": "code",
      "metadata": {
        "id": "MsKWx9QYK4LD",
        "colab": {
          "base_uri": "https://localhost:8080/"
        },
        "outputId": "ebcb352d-4284-409d-c608-9ed9b6be83d7"
      },
      "source": [
        "# (making directory) folder_name \n",
        "!mkdir images"
      ],
      "execution_count": 5,
      "outputs": [
        {
          "output_type": "stream",
          "text": [
            "mkdir: cannot create directory ‘images’: File exists\n",
            "time: 120 ms\n"
          ],
          "name": "stdout"
        }
      ]
    },
    {
      "cell_type": "code",
      "metadata": {
        "id": "H-IJY33OK6vk",
        "colab": {
          "base_uri": "https://localhost:8080/"
        },
        "outputId": "be6f5897-5646-43a9-b7fd-8fd2fae26621"
      },
      "source": [
        "# gather data\n",
        "from bing_image_downloader import downloader"
      ],
      "execution_count": 6,
      "outputs": [
        {
          "output_type": "stream",
          "text": [
            "time: 10.2 ms\n"
          ],
          "name": "stdout"
        }
      ]
    },
    {
      "cell_type": "code",
      "metadata": {
        "id": "Xz2rxpPkK83Y",
        "colab": {
          "base_uri": "https://localhost:8080/"
        },
        "outputId": "c8704fc6-0155-4cdb-e80c-45da84e8a7f5"
      },
      "source": [
        "downloader.download(\"Pretty Roses\",limit=20,output_dir='images',adult_filter_off=True)"
      ],
      "execution_count": 7,
      "outputs": [
        {
          "output_type": "stream",
          "text": [
            "\n",
            "\n",
            "[!!]Indexing page: 1\n",
            "\n",
            "[%] Indexed 13 Images on Page 1.\n",
            "\n",
            "===============================================\n",
            "\n",
            "[%] Downloading Image #1 from http://fashionsy.com/wp-content/uploads/2015/02/25-pretty-flower-nail-designs.jpg\n",
            "[%] File Downloaded !\n",
            "\n",
            "[%] Downloading Image #2 from http://www.rosesandrings.com/wp-content/uploads/2018/06/burgundy-and-blush-wedding-centerpiece.jpg\n",
            "[%] File Downloaded !\n",
            "\n",
            "[%] Downloading Image #3 from http://www.prettydesigns.com/wp-content/uploads/2015/01/Daisy-Tattoo.jpg\n",
            "[%] File Downloaded !\n",
            "\n",
            "[%] Downloading Image #4 from https://wallpapersite.com/images/wallpapers/beautiful-woman-1920x1200-blonde-pretty-girl-5k-2276.jpg\n",
            "[!] Issue getting: https://wallpapersite.com/images/wallpapers/beautiful-woman-1920x1200-blonde-pretty-girl-5k-2276.jpg\n",
            "[!] Error:: HTTP Error 404: Not Found\n",
            "[%] Downloading Image #4 from https://78.media.tumblr.com/061e2ee7118be9cccdcc1107db7ea2fb/tumblr_njgnuex1yR1tucycko1_500.jpg\n",
            "[%] File Downloaded !\n",
            "\n",
            "[%] Downloading Image #5 from https://78.media.tumblr.com/5137703d1eba0f1639053d60067eca41/tumblr_mh9jmy6nL81qgawlzo1_500.jpg\n",
            "[%] File Downloaded !\n",
            "\n",
            "[%] Downloading Image #6 from https://www.mondofloraldesigns.com.au/wp-content/uploads/MM_LB_098.jpg\n",
            "[%] File Downloaded !\n",
            "\n",
            "[%] Downloading Image #7 from http://tattoomagz.com/wp-content/uploads/Amazing-skull-rose-tattoo-by-Razvan-Popescu.jpg\n",
            "[%] File Downloaded !\n",
            "\n",
            "[%] Downloading Image #8 from https://cdn.homebnc.com/homeimg/2017/02/16-flower-arrangement-ideas-homebnc.jpg\n",
            "[%] File Downloaded !\n",
            "\n",
            "[%] Downloading Image #9 from https://www.i-do.com.au/editorialpics/Flowers/single-bloom/bridal%20flowers%20by%20ElizabethRoseCrafts%20on%20Etsy%20.jpg\n",
            "[%] File Downloaded !\n",
            "\n",
            "[%] Downloading Image #10 from http://www.rosesandrings.com/wp-content/uploads/2018/06/burgundy-peach-and-blush-wedding-centerpiece.jpg\n",
            "[%] File Downloaded !\n",
            "\n",
            "[%] Downloading Image #11 from http://magicartworld.com/wp-content/uploads/2015/04/Queen-of-the-Elves-by-morrigan-magie.jpg\n",
            "[%] File Downloaded !\n",
            "\n",
            "[%] Downloading Image #12 from http://www.rosesandrings.com/wp-content/uploads/2018/01/rustic-country-burlap-wedding-table-cover.jpg\n",
            "[%] File Downloaded !\n",
            "\n",
            "\n",
            "\n",
            "[!!]Indexing page: 2\n",
            "\n",
            "[%] Indexed 13 Images on Page 2.\n",
            "\n",
            "===============================================\n",
            "\n",
            "[%] Downloading Image #13 from http://fashionsy.com/wp-content/uploads/2015/02/25-pretty-flower-nail-designs.jpg\n",
            "[%] File Downloaded !\n",
            "\n",
            "[%] Downloading Image #14 from http://www.rosesandrings.com/wp-content/uploads/2018/06/burgundy-and-blush-wedding-centerpiece.jpg\n",
            "[%] File Downloaded !\n",
            "\n",
            "[%] Downloading Image #15 from http://www.prettydesigns.com/wp-content/uploads/2015/01/Daisy-Tattoo.jpg\n",
            "[%] File Downloaded !\n",
            "\n",
            "[%] Downloading Image #16 from https://wallpapersite.com/images/wallpapers/beautiful-woman-1920x1200-blonde-pretty-girl-5k-2276.jpg\n",
            "[!] Issue getting: https://wallpapersite.com/images/wallpapers/beautiful-woman-1920x1200-blonde-pretty-girl-5k-2276.jpg\n",
            "[!] Error:: HTTP Error 404: Not Found\n",
            "[%] Downloading Image #16 from https://78.media.tumblr.com/061e2ee7118be9cccdcc1107db7ea2fb/tumblr_njgnuex1yR1tucycko1_500.jpg\n",
            "[%] File Downloaded !\n",
            "\n",
            "[%] Downloading Image #17 from https://78.media.tumblr.com/5137703d1eba0f1639053d60067eca41/tumblr_mh9jmy6nL81qgawlzo1_500.jpg\n",
            "[%] File Downloaded !\n",
            "\n",
            "[%] Downloading Image #18 from https://www.mondofloraldesigns.com.au/wp-content/uploads/MM_LB_098.jpg\n",
            "[%] File Downloaded !\n",
            "\n",
            "[%] Downloading Image #19 from http://tattoomagz.com/wp-content/uploads/Amazing-skull-rose-tattoo-by-Razvan-Popescu.jpg\n",
            "[%] File Downloaded !\n",
            "\n",
            "[%] Downloading Image #20 from https://cdn.homebnc.com/homeimg/2017/02/16-flower-arrangement-ideas-homebnc.jpg\n",
            "[%] File Downloaded !\n",
            "\n",
            "\n",
            "\n",
            "[%] Done. Downloaded 20 images.\n",
            "\n",
            "===============================================\n",
            "\n",
            "time: 5.74 s\n"
          ],
          "name": "stdout"
        }
      ]
    },
    {
      "cell_type": "code",
      "metadata": {
        "id": "YERi-HBKK_Az",
        "colab": {
          "base_uri": "https://localhost:8080/"
        },
        "outputId": "a613003f-f0e2-42d7-d509-e1d4adbda649"
      },
      "source": [
        "downloader.download(\"ice cream cone\",limit=20,output_dir='images',adult_filter_off=True)"
      ],
      "execution_count": 8,
      "outputs": [
        {
          "output_type": "stream",
          "text": [
            "\n",
            "\n",
            "[!!]Indexing page: 1\n",
            "\n",
            "[%] Indexed 13 Images on Page 1.\n",
            "\n",
            "===============================================\n",
            "\n",
            "[%] Downloading Image #1 from https://i.ytimg.com/vi/2H8p2Dxpu_s/maxresdefault.jpg\n",
            "[%] File Downloaded !\n",
            "\n",
            "[%] Downloading Image #2 from https://www.benjerry.com/files/live/sites/systemsite/files/whats-new/2668-vegan-brownie-sundae/vegan-sundae-fbog.jpg\n",
            "[%] File Downloaded !\n",
            "\n",
            "[%] Downloading Image #3 from http://www.wonderworkstudios.com/wp-content/uploads/2015/06/DSC00506_Fotor_Fotor_Collage_Fotor-698x1024.jpg\n",
            "[%] File Downloaded !\n",
            "\n",
            "[%] Downloading Image #4 from https://img.thrfun.com/img/199/934/making_paper_ice_cream_cones_4_x4.jpg\n",
            "[%] File Downloaded !\n",
            "\n",
            "[%] Downloading Image #5 from http://cdn.wonderfuldiy.com/wp-content/uploads/2014/10/Mushroom-Cupcakes-and-Fairy-Garden-Stand-2.jpg\n",
            "[%] File Downloaded !\n",
            "\n",
            "[%] Downloading Image #6 from http://spoonssquared.com/wp-content/uploads/2014/07/4-mini-cones-768x1024.jpg\n",
            "[%] File Downloaded !\n",
            "\n",
            "[%] Downloading Image #7 from https://luxurylaunches.com/wp-content/uploads/2017/10/6568.jpg\n",
            "[%] File Downloaded !\n",
            "\n",
            "[%] Downloading Image #8 from https://www.nobiggie.net/wp-content/uploads/2016/01/texting-snowman.jpg\n",
            "[%] File Downloaded !\n",
            "\n",
            "[%] Downloading Image #9 from https://i.ytimg.com/vi/HBpTGPyw9Kg/maxresdefault.jpg\n",
            "[%] File Downloaded !\n",
            "\n",
            "[%] Downloading Image #10 from http://oddstuffmagazine.com/wp-content/uploads/2017/02/unicorn-snake-650x897.jpg\n",
            "[%] File Downloaded !\n",
            "\n",
            "[%] Downloading Image #11 from https://static.standard.co.uk/s3fs-public/thumbnails/image/2018/06/26/15/quirky-ice-creams-bake.jpg\n",
            "[%] File Downloaded !\n",
            "\n",
            "[%] Downloading Image #12 from https://i.pinimg.com/736x/bc/f2/30/bcf230d4d19d84100f95dfa77183fc40--tied-shirt-brooke-shields.jpg\n",
            "[%] File Downloaded !\n",
            "\n",
            "[%] Downloading Image #13 from https://www.benjerry.com/files/live/sites/systemsite/files/whats-new/3324-systematic-racism/3324-systematic-racism-1200x400.jpg\n",
            "[%] File Downloaded !\n",
            "\n",
            "\n",
            "\n",
            "[!!]Indexing page: 2\n",
            "\n",
            "[%] Indexed 13 Images on Page 2.\n",
            "\n",
            "===============================================\n",
            "\n",
            "[%] Downloading Image #14 from https://i.ytimg.com/vi/2H8p2Dxpu_s/maxresdefault.jpg\n",
            "[%] File Downloaded !\n",
            "\n",
            "[%] Downloading Image #15 from https://www.benjerry.com/files/live/sites/systemsite/files/whats-new/2668-vegan-brownie-sundae/vegan-sundae-fbog.jpg\n",
            "[%] File Downloaded !\n",
            "\n",
            "[%] Downloading Image #16 from http://www.wonderworkstudios.com/wp-content/uploads/2015/06/DSC00506_Fotor_Fotor_Collage_Fotor-698x1024.jpg\n",
            "[%] File Downloaded !\n",
            "\n",
            "[%] Downloading Image #17 from https://img.thrfun.com/img/199/934/making_paper_ice_cream_cones_4_x4.jpg\n",
            "[%] File Downloaded !\n",
            "\n",
            "[%] Downloading Image #18 from http://cdn.wonderfuldiy.com/wp-content/uploads/2014/10/Mushroom-Cupcakes-and-Fairy-Garden-Stand-2.jpg\n",
            "[%] File Downloaded !\n",
            "\n",
            "[%] Downloading Image #19 from http://spoonssquared.com/wp-content/uploads/2014/07/4-mini-cones-768x1024.jpg\n",
            "[%] File Downloaded !\n",
            "\n",
            "[%] Downloading Image #20 from https://luxurylaunches.com/wp-content/uploads/2017/10/6568.jpg\n",
            "[%] File Downloaded !\n",
            "\n",
            "\n",
            "\n",
            "[%] Done. Downloaded 20 images.\n",
            "\n",
            "===============================================\n",
            "\n",
            "time: 5.79 s\n"
          ],
          "name": "stdout"
        }
      ]
    },
    {
      "cell_type": "code",
      "metadata": {
        "id": "4iGhgXrNLSLv",
        "colab": {
          "base_uri": "https://localhost:8080/"
        },
        "outputId": "9f8ace9a-0549-48de-dee2-7a284d22be48"
      },
      "source": [
        "downloader.download(\"Golden Retriever\",limit=20,output_dir='images',adult_filter_off=True)"
      ],
      "execution_count": 9,
      "outputs": [
        {
          "output_type": "stream",
          "text": [
            "\n",
            "\n",
            "[!!]Indexing page: 1\n",
            "\n",
            "[%] Indexed 13 Images on Page 1.\n",
            "\n",
            "===============================================\n",
            "\n",
            "[%] Downloading Image #1 from https://i.pinimg.com/736x/da/92/a4/da92a4304a8a6c2427f505d0dc9d8a7d--australian-shepherd-mix-golden-retrievers.jpg\n",
            "[%] File Downloaded !\n",
            "\n",
            "[%] Downloading Image #2 from http://i.ytimg.com/vi/qALaJk9PV3U/maxresdefault.jpg\n",
            "[%] File Downloaded !\n",
            "\n",
            "[%] Downloading Image #3 from https://i.pinimg.com/736x/ef/b3/6e/efb36e0ae5e41d3a30cbcc3eccb6a505--golden-cocker-retriever-retriever-puppies.jpg\n",
            "[%] File Downloaded !\n",
            "\n",
            "[%] Downloading Image #4 from http://www.proprofs.com/flashcards/upload/a8948340.jpg\n",
            "[%] File Downloaded !\n",
            "\n",
            "[%] Downloading Image #5 from http://wallpaperswide.com/download/golden_retriever_dog-wallpaper-2400x1350.jpg\n",
            "[%] File Downloaded !\n",
            "\n",
            "[%] Downloading Image #6 from https://i.pinimg.com/736x/dd/32/a5/dd32a5efb6ea59e7a10667bc3e1a1637---weeks-goldendoodle.jpg\n",
            "[%] File Downloaded !\n",
            "\n",
            "[%] Downloading Image #7 from https://www.recreoviral.com/wp-content/uploads/2015/12/20-PERROS-QUE-NO-CONOCEN-EL-ESPACIO-PERSONAL-19.jpg\n",
            "[%] File Downloaded !\n",
            "\n",
            "[%] Downloading Image #8 from https://www.awesomeinventions.com/wp-content/uploads/2015/02/burning-man-nevada.jpg\n",
            "[%] File Downloaded !\n",
            "\n",
            "[%] Downloading Image #9 from http://3.bp.blogspot.com/-CSEHNpMbukU/UOQudcCNn0I/AAAAAAAAN8M/eLBC5ETgprc/s1600/3290476-well-cut-poodle-dog-at-a-dog-show.jpg\n",
            "[%] File Downloaded !\n",
            "\n",
            "[%] Downloading Image #10 from https://thesmartcanine.com/wp-content/uploads/2019/05/siberian-husky-mix.jpg\n",
            "[%] File Downloaded !\n",
            "\n",
            "[%] Downloading Image #11 from https://blmommy.com/wp-content/uploads/2015/05/DSC_4894-900x599.jpg\n",
            "[%] File Downloaded !\n",
            "\n",
            "[%] Downloading Image #12 from https://www.sunnyskyz.com/uploads/2014/07/os6om-dogs-eat-bees7.jpg\n",
            "[%] File Downloaded !\n",
            "\n",
            "[%] Downloading Image #13 from https://blmommy.com/wp-content/uploads/2015/05/DSC_4928-900x599.jpg\n",
            "[%] File Downloaded !\n",
            "\n",
            "\n",
            "\n",
            "[!!]Indexing page: 2\n",
            "\n",
            "[%] Indexed 13 Images on Page 2.\n",
            "\n",
            "===============================================\n",
            "\n",
            "[%] Downloading Image #14 from https://i.pinimg.com/736x/da/92/a4/da92a4304a8a6c2427f505d0dc9d8a7d--australian-shepherd-mix-golden-retrievers.jpg\n",
            "[%] File Downloaded !\n",
            "\n",
            "[%] Downloading Image #15 from http://i.ytimg.com/vi/qALaJk9PV3U/maxresdefault.jpg\n",
            "[%] File Downloaded !\n",
            "\n",
            "[%] Downloading Image #16 from https://i.pinimg.com/736x/ef/b3/6e/efb36e0ae5e41d3a30cbcc3eccb6a505--golden-cocker-retriever-retriever-puppies.jpg\n",
            "[%] File Downloaded !\n",
            "\n",
            "[%] Downloading Image #17 from http://www.proprofs.com/flashcards/upload/a8948340.jpg\n",
            "[%] File Downloaded !\n",
            "\n",
            "[%] Downloading Image #18 from http://wallpaperswide.com/download/golden_retriever_dog-wallpaper-2400x1350.jpg\n",
            "[%] File Downloaded !\n",
            "\n",
            "[%] Downloading Image #19 from https://i.pinimg.com/736x/dd/32/a5/dd32a5efb6ea59e7a10667bc3e1a1637---weeks-goldendoodle.jpg\n",
            "[%] File Downloaded !\n",
            "\n",
            "[%] Downloading Image #20 from https://www.recreoviral.com/wp-content/uploads/2015/12/20-PERROS-QUE-NO-CONOCEN-EL-ESPACIO-PERSONAL-19.jpg\n",
            "[%] File Downloaded !\n",
            "\n",
            "\n",
            "\n",
            "[%] Done. Downloaded 20 images.\n",
            "\n",
            "===============================================\n",
            "\n",
            "time: 4.31 s\n"
          ],
          "name": "stdout"
        }
      ]
    },
    {
      "cell_type": "code",
      "metadata": {
        "id": "zAwAOc0nLfKm",
        "colab": {
          "base_uri": "https://localhost:8080/"
        },
        "outputId": "c8a20d90-96c6-4224-9c12-573a5b58fb3b"
      },
      "source": [
        "# preprocess gather data\n",
        "import os   \n",
        "# to play around folder\n",
        "import matplotlib.pyplot as plt\n",
        "import numpy as np\n",
        "from skimage.io import imread\n",
        "from skimage.transform import resize\n",
        "\n",
        "Gather_Data = '/content/images'\n",
        "\n",
        "Category = ['Pretty Roses','Golden Retriever','ice cream cone']\n",
        "\n",
        "target = []\n",
        "data_flatten = []\n",
        "for i in Category:\n",
        "  path = os.path.join(Gather_Data,i)\n",
        "  print(path)\n",
        "  # iterate every image\n",
        "  for img in os.listdir(path):\n",
        "    array_img = imread(os.path.join(path,img))\n",
        "    # scale down images to specific value\n",
        "    img_resized = resize(array_img,(150,150,3)) \n",
        "    # Flattening of an Image\n",
        "    data_flatten.append(img_resized.flatten())\n",
        "    target.append(Category.index(i))\n",
        "\n",
        "data_flatten = np.array(data_flatten)\n",
        "target = np.array(target)\n",
        "print(target)"
      ],
      "execution_count": 10,
      "outputs": [
        {
          "output_type": "stream",
          "text": [
            "/content/images/Pretty Roses\n",
            "/content/images/Golden Retriever\n",
            "/content/images/ice cream cone\n",
            "[0 0 0 0 0 0 0 0 0 0 0 0 0 0 0 0 0 0 0 0 0 1 1 1 1 1 1 1 1 1 1 1 1 1 1 1 1\n",
            " 1 1 1 1 2 2 2 2 2 2 2 2 2 2 2 2 2 2 2 2 2 2 2 2 2 2 2]\n",
            "time: 11.9 s\n"
          ],
          "name": "stdout"
        }
      ]
    },
    {
      "cell_type": "code",
      "metadata": {
        "id": "lErjbF50L3eg",
        "colab": {
          "base_uri": "https://localhost:8080/"
        },
        "outputId": "4bdddd0a-bfd4-47c7-9c02-b71d745b6ece"
      },
      "source": [
        "# split data into testing and training\n",
        "from sklearn.model_selection import train_test_split\n",
        "x_train,x_test,y_train,y_test = train_test_split(data_flatten,target,random_state=0)"
      ],
      "execution_count": 11,
      "outputs": [
        {
          "output_type": "stream",
          "text": [
            "time: 99.4 ms\n"
          ],
          "name": "stdout"
        }
      ]
    },
    {
      "cell_type": "code",
      "metadata": {
        "id": "rsSAerWBMJUN",
        "colab": {
          "base_uri": "https://localhost:8080/"
        },
        "outputId": "14a3f7ed-8c5d-48c6-bd51-95b04162c7a2"
      },
      "source": [
        "# classification Algorithm using GridSearch CV\n",
        "from sklearn.model_selection import GridSearchCV\n",
        "from sklearn import svm\n",
        "best_param = [\n",
        "              {'C':[1,10,100,1000],'kernel':['linear']},\n",
        "              {'C':[1,10,100,1000],'gamma':[0.001,0.0001],'kernel':['rbf']},\n",
        "]\n",
        "svc = svm.SVC(probability=True)\n",
        "grid = GridSearchCV(svc,best_param)\n",
        "grid.fit(x_train,y_train)"
      ],
      "execution_count": 12,
      "outputs": [
        {
          "output_type": "execute_result",
          "data": {
            "text/plain": [
              "GridSearchCV(cv=None, error_score=nan,\n",
              "             estimator=SVC(C=1.0, break_ties=False, cache_size=200,\n",
              "                           class_weight=None, coef0=0.0,\n",
              "                           decision_function_shape='ovr', degree=3,\n",
              "                           gamma='scale', kernel='rbf', max_iter=-1,\n",
              "                           probability=True, random_state=None, shrinking=True,\n",
              "                           tol=0.001, verbose=False),\n",
              "             iid='deprecated', n_jobs=None,\n",
              "             param_grid=[{'C': [1, 10, 100, 1000], 'kernel': ['linear']},\n",
              "                         {'C': [1, 10, 100, 1000], 'gamma': [0.001, 0.0001],\n",
              "                          'kernel': ['rbf']}],\n",
              "             pre_dispatch='2*n_jobs', refit=True, return_train_score=False,\n",
              "             scoring=None, verbose=0)"
            ]
          },
          "metadata": {
            "tags": []
          },
          "execution_count": 12
        },
        {
          "output_type": "stream",
          "text": [
            "time: 58.3 s\n"
          ],
          "name": "stdout"
        }
      ]
    },
    {
      "cell_type": "code",
      "metadata": {
        "id": "0iJaCCEFMQgk",
        "colab": {
          "base_uri": "https://localhost:8080/"
        },
        "outputId": "3b4629b8-032b-4a84-f6d6-55c1757adf3a"
      },
      "source": [
        "y_pred = grid.predict(x_test)\n",
        "y_pred"
      ],
      "execution_count": 13,
      "outputs": [
        {
          "output_type": "execute_result",
          "data": {
            "text/plain": [
              "array([2, 1, 2, 2, 2, 2, 2, 2, 2, 2, 2, 2, 2, 2, 2, 2])"
            ]
          },
          "metadata": {
            "tags": []
          },
          "execution_count": 13
        },
        {
          "output_type": "stream",
          "text": [
            "time: 85.4 ms\n"
          ],
          "name": "stdout"
        }
      ]
    },
    {
      "cell_type": "code",
      "metadata": {
        "id": "nE_ujxyQMXYE",
        "colab": {
          "base_uri": "https://localhost:8080/"
        },
        "outputId": "fc01b6e8-dea3-41d6-d516-6c3b3843bf5d"
      },
      "source": [
        "y_test"
      ],
      "execution_count": 14,
      "outputs": [
        {
          "output_type": "execute_result",
          "data": {
            "text/plain": [
              "array([2, 1, 2, 2, 1, 1, 1, 1, 1, 2, 1, 0, 0, 1, 2, 0])"
            ]
          },
          "metadata": {
            "tags": []
          },
          "execution_count": 14
        },
        {
          "output_type": "stream",
          "text": [
            "time: 3.22 ms\n"
          ],
          "name": "stdout"
        }
      ]
    },
    {
      "cell_type": "code",
      "metadata": {
        "id": "B6iFh5KsMZ6-",
        "colab": {
          "base_uri": "https://localhost:8080/"
        },
        "outputId": "5f7192c5-b023-44c9-dc97-7a98a6d66913"
      },
      "source": [
        "from sklearn.metrics import accuracy_score,confusion_matrix,classification_report"
      ],
      "execution_count": 15,
      "outputs": [
        {
          "output_type": "stream",
          "text": [
            "time: 2.36 ms\n"
          ],
          "name": "stdout"
        }
      ]
    },
    {
      "cell_type": "code",
      "metadata": {
        "id": "elUnXnemMdMH",
        "colab": {
          "base_uri": "https://localhost:8080/"
        },
        "outputId": "3aba0f03-b5a1-4c99-c787-6cc876dc5867"
      },
      "source": [
        "accuracy_score(y_pred,y_test)*100"
      ],
      "execution_count": 16,
      "outputs": [
        {
          "output_type": "execute_result",
          "data": {
            "text/plain": [
              "37.5"
            ]
          },
          "metadata": {
            "tags": []
          },
          "execution_count": 16
        },
        {
          "output_type": "stream",
          "text": [
            "time: 4.53 ms\n"
          ],
          "name": "stdout"
        }
      ]
    },
    {
      "cell_type": "code",
      "metadata": {
        "id": "L16rHLUQMh0p",
        "colab": {
          "base_uri": "https://localhost:8080/"
        },
        "outputId": "12676a71-25b0-43ee-b27a-dc0af6dd71cf"
      },
      "source": [
        "confusion_matrix(y_pred,y_test)"
      ],
      "execution_count": 17,
      "outputs": [
        {
          "output_type": "execute_result",
          "data": {
            "text/plain": [
              "array([[0, 0, 0],\n",
              "       [0, 1, 0],\n",
              "       [3, 7, 5]])"
            ]
          },
          "metadata": {
            "tags": []
          },
          "execution_count": 17
        },
        {
          "output_type": "stream",
          "text": [
            "time: 4.41 ms\n"
          ],
          "name": "stdout"
        }
      ]
    },
    {
      "cell_type": "code",
      "metadata": {
        "id": "vzG-5lexMra4",
        "colab": {
          "base_uri": "https://localhost:8080/"
        },
        "outputId": "05bc8d9a-4360-4ec7-bc94-e4f209542f69"
      },
      "source": [
        "# save model using pickle library\n",
        "import pickle\n",
        "pickle.dump(grid,open('img_model.p','wb'))"
      ],
      "execution_count": 18,
      "outputs": [
        {
          "output_type": "stream",
          "text": [
            "time: 61.5 ms\n"
          ],
          "name": "stdout"
        }
      ]
    },
    {
      "cell_type": "code",
      "metadata": {
        "id": "8w_MkphlMu-y",
        "colab": {
          "base_uri": "https://localhost:8080/"
        },
        "outputId": "1c7e7ee0-986d-46e5-caa9-62467f2411fa"
      },
      "source": [
        "model = pickle.load(open('img_model.p','rb'))"
      ],
      "execution_count": 19,
      "outputs": [
        {
          "output_type": "stream",
          "text": [
            "time: 21 ms\n"
          ],
          "name": "stdout"
        }
      ]
    },
    {
      "cell_type": "code",
      "metadata": {
        "id": "gdPkrq5PMw9x",
        "colab": {
          "base_uri": "https://localhost:8080/",
          "height": 336
        },
        "outputId": "efddd305-948a-4282-b6fd-568d45f7d3a5"
      },
      "source": [
        "#  testing a new image\n",
        "data_flatten = []\n",
        "url = input('Enter your URL')\n",
        "img = imread(url)\n",
        "img_resized = resize(img,(150,150,3))\n",
        "data_flatten.append(img_resized.flatten())\n",
        "data_flatten = np.array(data_flatten)\n",
        "print(img.shape)\n",
        "plt.imshow(img_resized)\n",
        "y_out = model.predict(data_flatten)\n",
        "y_out = Category[y_out[0]]\n",
        "print(f' Predicted Output : {y_out}')"
      ],
      "execution_count": 20,
      "outputs": [
        {
          "output_type": "stream",
          "text": [
            "Enter your URL/content/drive/MyDrive/rose.jpg\n",
            "(194, 259, 3)\n",
            " Predicted Output : Pretty Roses\n"
          ],
          "name": "stdout"
        },
        {
          "output_type": "display_data",
          "data": {
            "image/png": "[encoded data removed]",
            "text/plain": [
              "<Figure size 432x288 with 1 Axes>"
            ]
          },
          "metadata": {
            "tags": [],
            "needs_background": "light"
          }
        },
        {
          "output_type": "stream",
          "text": [
            "time: 3min 1s\n"
          ],
          "name": "stdout"
        }
      ]
    },
    {
      "cell_type": "code",
      "metadata": {
        "id": "C7Hq3I-EdkhH"
      },
      "source": [
        ""
      ],
      "execution_count": 20,
      "outputs": []
    }
  ]
}